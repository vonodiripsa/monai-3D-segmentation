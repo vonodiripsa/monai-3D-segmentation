{
  "cells": [
    {
      "cell_type": "code",
      "source": [
        "import base64\r\n",
        "import json\r\n",
        "from azure.ai.ml import MLClient, Input\r\n",
        "from azure.ai.ml.entities import ManagedOnlineEndpoint, ManagedOnlineDeployment, Model, CodeConfiguration, OnlineRequestSettings, Environment\r\n",
        "#from azure.ai.ml.entities import ManagedOnlineEndpoint, ManagedOnlineDeployment, Model, Environment, JobService, Data, CodeConfiguration, OnlineRequestSettings, AmlCompute\r\n",
        "\r\n",
        "from azure.ai.ml.constants import AssetTypes\r\n",
        "from azure.identity import DefaultAzureCredential"
      ],
      "outputs": [],
      "execution_count": 3,
      "metadata": {
        "gather": {
          "logged": 1680815514146
        }
      }
    },
    {
      "cell_type": "code",
      "source": [
        "try:\r\n",
        "    credential = DefaultAzureCredential()\r\n",
        "    # Check if given credential can get token successfully.\r\n",
        "    credential.get_token(\"https://management.azure.com/.default\")\r\n",
        "except Exception as ex:\r\n",
        "    # Fall back to InteractiveBrowserCredential in case DefaultAzureCredential not work\r\n",
        "    # This will open a browser page for\r\n",
        "    credential = InteractiveBrowserCredential()\r\n",
        "\r\n",
        "ml_client = MLClient.from_config(credential=credential)"
      ],
      "outputs": [
        {
          "output_type": "stream",
          "name": "stderr",
          "text": "Found the config file in: ./config.json\n"
        }
      ],
      "execution_count": 4,
      "metadata": {
        "jupyter": {
          "source_hidden": false,
          "outputs_hidden": false
        },
        "nteract": {
          "transient": {
            "deleting": false
          }
        },
        "gather": {
          "logged": 1680815519924
        }
      }
    },
    {
      "cell_type": "code",
      "source": [
        "# Deployment\r\n",
        "online_endpoint_name = 'SRN-endpoint'\r\n",
        "registered_model_name = 'custom-model'\r\n",
        "deployment_name = 'blue'\r\n",
        "inference_env_name = 'inference-env'"
      ],
      "outputs": [],
      "execution_count": 5,
      "metadata": {
        "jupyter": {
          "source_hidden": false,
          "outputs_hidden": false
        },
        "nteract": {
          "transient": {
            "deleting": false
          }
        },
        "gather": {
          "logged": 1680815525563
        }
      }
    },
    {
      "cell_type": "code",
      "source": [
        "# Let's pick the latest version of the model\r\n",
        "latest_model_version = max([int(m.version) for m in ml_client.models.list(name= registered_model_name)])\r\n",
        "\r\n",
        "print(f'Latest version of {registered_model_name} found: {latest_model_version}')"
      ],
      "outputs": [
        {
          "output_type": "stream",
          "name": "stdout",
          "text": "Latest version of custom-model found: 1\n"
        }
      ],
      "execution_count": 6,
      "metadata": {
        "jupyter": {
          "source_hidden": false,
          "outputs_hidden": false
        },
        "nteract": {
          "transient": {
            "deleting": false
          }
        },
        "gather": {
          "logged": 1680815532655
        }
      }
    },
    {
      "cell_type": "code",
      "source": [
        "# model_name = 'sklearn-diabetes'\r\n",
        "# model_local_path = \"sklearn-diabetes/model\"\r\n",
        "# model = ml_client.models.create_or_update(\r\n",
        "#         Model(name=model_name, path=model_local_path, type=AssetTypes.MLFLOW_MODEL)\r\n",
        "# )\r\n",
        "\r\n",
        "model = ml_client.models.get(name=registered_model_name, label='latest')\r\n"
      ],
      "outputs": [],
      "execution_count": 7,
      "metadata": {
        "jupyter": {
          "source_hidden": false,
          "outputs_hidden": false
        },
        "nteract": {
          "transient": {
            "deleting": false
          }
        },
        "gather": {
          "logged": 1680815545126
        }
      }
    },
    {
      "cell_type": "code",
      "source": [
        "endpoint_name = online_endpoint_name\r\n",
        "\r\n",
        "endpoint = ManagedOnlineEndpoint(\r\n",
        "    name=endpoint_name,\r\n",
        "    description=\"An online endpoint to generate predictions\",\r\n",
        "    auth_mode=\"key\",\r\n",
        "    tags={\"foo\": \"bar\"},\r\n",
        ")"
      ],
      "outputs": [],
      "execution_count": 8,
      "metadata": {
        "jupyter": {
          "source_hidden": false,
          "outputs_hidden": false
        },
        "nteract": {
          "transient": {
            "deleting": false
          }
        },
        "gather": {
          "logged": 1680815556004
        }
      }
    },
    {
      "cell_type": "code",
      "source": [
        "ml_client.begin_create_or_update(endpoint)"
      ],
      "outputs": [
        {
          "output_type": "execute_result",
          "execution_count": 9,
          "data": {
            "text/plain": "<azure.core.polling._poller.LROPoller at 0x7f9a7edac280>"
          },
          "metadata": {}
        }
      ],
      "execution_count": 9,
      "metadata": {
        "jupyter": {
          "source_hidden": false,
          "outputs_hidden": false
        },
        "nteract": {
          "transient": {
            "deleting": false
          }
        },
        "gather": {
          "logged": 1680815568895
        }
      }
    },
    {
      "cell_type": "code",
      "source": [
        "\r\n",
        "scoring_environment = Environment(\r\n",
        "    image=\"mcr.microsoft.com/azureml/openmpi4.1.0-cuda11.1-cudnn8-ubuntu20.04:latest\",\r\n",
        "    conda_file=\"./scoring-env.yaml\",\r\n",
        "    name=inference_env_name,\r\n",
        "    description=\"Brain tumor segmentation inference environment\")\r\n",
        "\r\n",
        "ml_client.environments.create_or_update(scoring_environment)"
      ],
      "outputs": [
        {
          "output_type": "execute_result",
          "execution_count": 10,
          "data": {
            "text/plain": "Environment({'is_anonymous': False, 'auto_increment_version': False, 'name': 'inference-env', 'description': 'Brain tumor segmentation inference environment', 'tags': {}, 'properties': {}, 'id': '/subscriptions/b7d41fc8-d35d-41db-92ed-1f7f1d32d4d9/resourceGroups/monai-3d-rg/providers/Microsoft.MachineLearningServices/workspaces/aml-monai-3d/environments/inference-env/versions/1', 'Resource__source_path': None, 'base_path': '/mnt/batch/tasks/shared/LS_root/mounts/clusters/nc96adsa100-gpu/code/Users/aspiridonov/monai-3D-segmentation/brats-mri-segmentation-segresnet/notebooks', 'creation_context': <azure.ai.ml.entities._system_data.SystemData object at 0x7f9a8a0a71c0>, 'serialize': <msrest.serialization.Serializer object at 0x7f9a8a0a6f80>, 'version': '1', 'latest_version': None, 'conda_file': {'channels': ['anaconda', 'pytorch', 'conda-forge'], 'dependencies': ['python==3.10.4', 'pytorch==1.11.0', 'torchvision==0.12.0', 'tqdm==4.64.0', 'mlflow==1.26.0', 'pip==21.2.4', {'pip': ['azureml-inference-server-http', 'azure-ai-ml==1.2.0', 'azureml-mlflow==1.48.0', 'monai[nibabel, ignite, tqdm]', 'numpy', 'tensorboard', 'scikit-learn', 'matplotlib', 'inference-schema']}]}, 'image': 'mcr.microsoft.com/azureml/openmpi4.1.0-cuda11.1-cudnn8-ubuntu20.04:latest', 'build': None, 'inference_config': None, 'os_type': 'Linux', 'arm_type': 'environment_version', 'conda_file_path': None, 'path': None, 'datastore': None, 'upload_hash': None, 'translated_conda_file': '{\\n  \"channels\": [\\n    \"anaconda\",\\n    \"pytorch\",\\n    \"conda-forge\"\\n  ],\\n  \"dependencies\": [\\n    \"python==3.10.4\",\\n    \"pytorch==1.11.0\",\\n    \"torchvision==0.12.0\",\\n    \"tqdm==4.64.0\",\\n    \"mlflow==1.26.0\",\\n    \"pip==21.2.4\",\\n    {\\n      \"pip\": [\\n        \"azureml-inference-server-http\",\\n        \"azure-ai-ml==1.2.0\",\\n        \"azureml-mlflow==1.48.0\",\\n        \"monai[nibabel, ignite, tqdm]\",\\n        \"numpy\",\\n        \"tensorboard\",\\n        \"scikit-learn\",\\n        \"matplotlib\",\\n        \"inference-schema\"\\n      ]\\n    }\\n  ]\\n}'})"
          },
          "metadata": {}
        }
      ],
      "execution_count": 10,
      "metadata": {
        "jupyter": {
          "source_hidden": false,
          "outputs_hidden": false
        },
        "nteract": {
          "transient": {
            "deleting": false
          }
        },
        "gather": {
          "logged": 1680815604725
        }
      }
    },
    {
      "cell_type": "code",
      "source": [
        "latest_env_name = inference_env_name + ':1' \r\n",
        "blue_deployment = ManagedOnlineDeployment(\r\n",
        "    name=deployment_name,\r\n",
        "    endpoint_name=online_endpoint_name,\r\n",
        "    model=model,\r\n",
        "    environment=latest_env_name,\r\n",
        "    code_configuration=CodeConfiguration(\r\n",
        "        code=\"./\",\r\n",
        "        scoring_script=\"score.py\"\r\n",
        "    ),\r\n",
        "    instance_type=\"Standard_NC4as_T4_v3\",\r\n",
        "    instance_count=1,\r\n",
        "    request_settings= OnlineRequestSettings(request_timeout_ms = 90000),\r\n",
        ")"
      ],
      "outputs": [],
      "execution_count": 17,
      "metadata": {
        "jupyter": {
          "source_hidden": false,
          "outputs_hidden": false
        },
        "nteract": {
          "transient": {
            "deleting": false
          }
        },
        "gather": {
          "logged": 1680819840005
        }
      }
    },
    {
      "cell_type": "code",
      "source": [
        "deployment = ml_client.begin_create_or_update(blue_deployment)"
      ],
      "outputs": [
        {
          "output_type": "stream",
          "name": "stderr",
          "text": "Check: endpoint SRN-endpoint exists\n\u001b[32mUploading notebooks (0.27 MBs): 100%|██████████| 269784/269784 [00:00<00:00, 7848980.41it/s]\n\u001b[39m\n\ndata_collector is not a known attribute of class <class 'azure.ai.ml._restclient.v2022_02_01_preview.models._models_py3.ManagedOnlineDeployment'> and will be ignored\n"
        },
        {
          "output_type": "stream",
          "name": "stdout",
          "text": ".............................."
        }
      ],
      "execution_count": 18,
      "metadata": {
        "jupyter": {
          "source_hidden": false,
          "outputs_hidden": false
        },
        "nteract": {
          "transient": {
            "deleting": false
          }
        },
        "gather": {
          "logged": 1680819854993
        }
      }
    },
    {
      "cell_type": "code",
      "source": [
        "endpoint = ml_client.online_endpoints.get(online_endpoint_name)\r\n",
        "print(f\"Endpoint {endpoint.name} provisioning state: {endpoint.provisioning_state}\")"
      ],
      "outputs": [
        {
          "output_type": "stream",
          "name": "stdout",
          "text": "Endpoint srg-endpoint provisioning state: Succeeded\n"
        }
      ],
      "execution_count": 34,
      "metadata": {
        "jupyter": {
          "source_hidden": false,
          "outputs_hidden": false
        },
        "nteract": {
          "transient": {
            "deleting": false
          }
        },
        "gather": {
          "logged": 1679440228189
        }
      }
    },
    {
      "cell_type": "code",
      "source": [
        "ml_client.online_deployments.get_logs(\r\n",
        "    name=deployment_name, endpoint_name=online_endpoint_name, lines=50\r\n",
        ")"
      ],
      "outputs": [],
      "execution_count": null,
      "metadata": {
        "jupyter": {
          "source_hidden": false,
          "outputs_hidden": false
        },
        "nteract": {
          "transient": {
            "deleting": false
          }
        }
      }
    },
    {
      "cell_type": "code",
      "source": [
        "# existing traffic details\r\n",
        "print(endpoint.traffic)\r\n",
        "\r\n",
        "# Get the scoring URI\r\n",
        "print(endpoint.scoring_uri)"
      ],
      "outputs": [
        {
          "output_type": "stream",
          "name": "stdout",
          "text": "{'red': 0, 'blue': 0}\nhttps://srg-endpoint.westeurope.inference.ml.azure.com/score\n"
        }
      ],
      "execution_count": 35,
      "metadata": {
        "jupyter": {
          "source_hidden": false,
          "outputs_hidden": false
        },
        "nteract": {
          "transient": {
            "deleting": false
          }
        },
        "gather": {
          "logged": 1679440235786
        }
      }
    },
    {
      "cell_type": "code",
      "source": [
        "# blue deployment takes 100 traffic\r\n",
        "endpoint.traffic = {deployment_name: 100}\r\n",
        "ml_client.online_endpoints.begin_create_or_update(endpoint).result()"
      ],
      "outputs": [],
      "execution_count": null,
      "metadata": {
        "jupyter": {
          "source_hidden": false,
          "outputs_hidden": false
        },
        "nteract": {
          "transient": {
            "deleting": false
          }
        }
      }
    },
    {
      "cell_type": "code",
      "source": [],
      "outputs": [],
      "execution_count": null,
      "metadata": {
        "jupyter": {
          "source_hidden": false,
          "outputs_hidden": false
        },
        "nteract": {
          "transient": {
            "deleting": false
          }
        }
      }
    }
  ],
  "metadata": {
    "kernelspec": {
      "name": "python310-sdkv2",
      "language": "python",
      "display_name": "Python 3.10 - SDK v2"
    },
    "language_info": {
      "name": "python",
      "version": "3.10.9",
      "mimetype": "text/x-python",
      "codemirror_mode": {
        "name": "ipython",
        "version": 3
      },
      "pygments_lexer": "ipython3",
      "nbconvert_exporter": "python",
      "file_extension": ".py"
    },
    "microsoft": {
      "ms_spell_check": {
        "ms_spell_check_language": "en"
      },
      "host": {
        "AzureML": {
          "notebookHasBeenCompleted": true
        }
      }
    },
    "kernel_info": {
      "name": "python310-sdkv2"
    },
    "nteract": {
      "version": "nteract-front-end@1.0.0"
    }
  },
  "nbformat": 4,
  "nbformat_minor": 2
}