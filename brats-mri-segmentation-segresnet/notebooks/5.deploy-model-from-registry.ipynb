{
  "cells": [
    {
      "cell_type": "markdown",
      "source": [
        "# Deploy trained model to Endpoint\r\n",
        "\r\n",
        "Endpoints provide a unified interface to invoke and manage model deployments across compute types [What are endpoints and deployments?](https://learn.microsoft.com/en-us/azure/machine-learning/concept-endpoints?view=azureml-api-2)\r\n"
      ],
      "metadata": {
        "nteract": {
          "transient": {
            "deleting": false
          }
        }
      }
    },
    {
      "cell_type": "code",
      "source": [
        "from azure.ai.ml import MLClient\r\n",
        "from azure.ai.ml.entities import ManagedOnlineEndpoint, ManagedOnlineDeployment, CodeConfiguration, OnlineRequestSettings\r\n",
        "from azure.identity import DefaultAzureCredential"
      ],
      "outputs": [],
      "execution_count": 1,
      "metadata": {
        "jupyter": {
          "source_hidden": false,
          "outputs_hidden": false
        },
        "nteract": {
          "transient": {
            "deleting": false
          }
        },
        "gather": {
          "logged": 1681948803069
        }
      }
    },
    {
      "cell_type": "markdown",
      "source": [
        "## Define global variables"
      ],
      "metadata": {
        "nteract": {
          "transient": {
            "deleting": false
          }
        }
      }
    },
    {
      "cell_type": "code",
      "source": [
        "# Registry\r\n",
        "registry_name=\"ams-components\"\r\n",
        "registry_location=\"westeurope\"\r\n",
        "\r\n",
        "#Registry Components\r\n",
        "registered_model_name = 'SegResNet'\r\n",
        "\r\n",
        "# Deployment\r\n",
        "online_endpoint_name = 'SRN-endpoint-model-from-registry'\r\n",
        "deployment_name = 'blue'\r\n",
        "inference_env_name = 'inference-env'\r\n",
        "default_instance_type = \"Standard_NC4as_T4_v3\""
      ],
      "outputs": [],
      "execution_count": 34,
      "metadata": {
        "jupyter": {
          "source_hidden": false,
          "outputs_hidden": false
        },
        "nteract": {
          "transient": {
            "deleting": false
          }
        },
        "gather": {
          "logged": 1681953256552
        }
      }
    },
    {
      "cell_type": "markdown",
      "source": [
        "## Create Azure ML and Registry Clients"
      ],
      "metadata": {
        "nteract": {
          "transient": {
            "deleting": false
          }
        }
      }
    },
    {
      "cell_type": "code",
      "source": [
        "credential = DefaultAzureCredential()\r\n",
        "\r\n",
        "ml_client = MLClient.from_config(credential=credential)\r\n",
        "\r\n",
        "ml_client_registry = MLClient(credential=credential,\r\n",
        "                        registry_name=registry_name,\r\n",
        "                        registry_location=registry_location)"
      ],
      "outputs": [
        {
          "output_type": "stream",
          "name": "stderr",
          "text": "Found the config file in: ./config.json\n"
        }
      ],
      "execution_count": 3,
      "metadata": {
        "jupyter": {
          "source_hidden": false,
          "outputs_hidden": false
        },
        "nteract": {
          "transient": {
            "deleting": false
          }
        },
        "gather": {
          "logged": 1681948812064
        }
      }
    },
    {
      "cell_type": "markdown",
      "source": [
        "## Get latest model and environment from Registry"
      ],
      "metadata": {
        "nteract": {
          "transient": {
            "deleting": false
          }
        }
      }
    },
    {
      "cell_type": "code",
      "source": [
        "model = ml_client_registry.models.get(name=registered_model_name, version=str(1))\r\n",
        "scoring_environment = ml_client_registry.environments.get(name=inference_env_name, version=str(1))"
      ],
      "outputs": [],
      "execution_count": 16,
      "metadata": {
        "jupyter": {
          "source_hidden": false,
          "outputs_hidden": false
        },
        "nteract": {
          "transient": {
            "deleting": false
          }
        },
        "gather": {
          "logged": 1681950891098
        }
      }
    },
    {
      "cell_type": "markdown",
      "source": [
        "## Create Endpoint"
      ],
      "metadata": {
        "nteract": {
          "transient": {
            "deleting": false
          }
        }
      }
    },
    {
      "cell_type": "code",
      "source": [
        "endpoint = ManagedOnlineEndpoint(\r\n",
        "    name=online_endpoint_name,\r\n",
        "    description=\"An online endpoint to generate segmentation predictions\",\r\n",
        "    auth_mode=\"key\",\r\n",
        "    tags={\"model\": \"segreanet\"},\r\n",
        ")\r\n",
        "\r\n",
        "ml_client.begin_create_or_update(endpoint)"
      ],
      "outputs": [
        {
          "output_type": "execute_result",
          "execution_count": 17,
          "data": {
            "text/plain": "<azure.core.polling._poller.LROPoller at 0x7f0fe1136950>"
          },
          "metadata": {}
        }
      ],
      "execution_count": 17,
      "metadata": {
        "jupyter": {
          "source_hidden": false,
          "outputs_hidden": false
        },
        "nteract": {
          "transient": {
            "deleting": false
          }
        },
        "gather": {
          "logged": 1681950909683
        }
      }
    },
    {
      "cell_type": "markdown",
      "source": [
        "## Deploy deployment is a set of resources required for hosting the model\r\n",
        "_Wait until Endpoint is created_"
      ],
      "metadata": {
        "nteract": {
          "transient": {
            "deleting": false
          }
        }
      }
    },
    {
      "cell_type": "code",
      "source": [
        "#latest_env_name = inference_env_name + ':1' \r\n",
        "blue_deployment = ManagedOnlineDeployment(\r\n",
        "    name=deployment_name,\r\n",
        "    endpoint_name=online_endpoint_name,\r\n",
        "    model=model,\r\n",
        "    environment=scoring_environment,\r\n",
        "    code_configuration=CodeConfiguration(\r\n",
        "        code=\"./\",\r\n",
        "        scoring_script=\"score.py\"\r\n",
        "    ),\r\n",
        "    instance_type=default_instance_type,\r\n",
        "    instance_count=3,\r\n",
        "    request_settings= OnlineRequestSettings(request_timeout_ms = 90000),\r\n",
        ")\r\n",
        "\r\n",
        "deployment = ml_client.begin_create_or_update(blue_deployment)"
      ],
      "outputs": [
        {
          "output_type": "stream",
          "name": "stderr",
          "text": "Check: endpoint SRN-endpoint-model-from-registry exists\n\u001b[32mUploading notebooks (0.53 MBs): 100%|██████████| 530752/530752 [00:00<00:00, 8159871.11it/s]\n\u001b[39m\n\ndata_collector is not a known attribute of class <class 'azure.ai.ml._restclient.v2022_02_01_preview.models._models_py3.ManagedOnlineDeployment'> and will be ignored\n"
        },
        {
          "output_type": "stream",
          "name": "stdout",
          "text": ".............................................."
        }
      ],
      "execution_count": 35,
      "metadata": {
        "jupyter": {
          "source_hidden": false,
          "outputs_hidden": false
        },
        "nteract": {
          "transient": {
            "deleting": false
          }
        },
        "gather": {
          "logged": 1681953275484
        }
      }
    },
    {
      "cell_type": "markdown",
      "source": [
        "## Set Endpoint traffic"
      ],
      "metadata": {
        "nteract": {
          "transient": {
            "deleting": false
          }
        }
      }
    },
    {
      "cell_type": "code",
      "source": [
        "# blue deployment takes 100 traffic\r\n",
        "endpoint.traffic = {deployment_name: 100}\r\n",
        "ml_client.online_endpoints.begin_create_or_update(endpoint).result()"
      ],
      "outputs": [],
      "execution_count": null,
      "metadata": {
        "jupyter": {
          "source_hidden": false,
          "outputs_hidden": false
        },
        "nteract": {
          "transient": {
            "deleting": false
          }
        },
        "gather": {
          "logged": 1681356975574
        }
      }
    }
  ],
  "metadata": {
    "kernelspec": {
      "name": "python310-sdkv2",
      "language": "python",
      "display_name": "Python 3.10 - SDK v2"
    },
    "language_info": {
      "name": "python",
      "version": "3.10.9",
      "mimetype": "text/x-python",
      "codemirror_mode": {
        "name": "ipython",
        "version": 3
      },
      "pygments_lexer": "ipython3",
      "nbconvert_exporter": "python",
      "file_extension": ".py"
    },
    "microsoft": {
      "ms_spell_check": {
        "ms_spell_check_language": "en"
      },
      "host": {
        "AzureML": {
          "notebookHasBeenCompleted": true
        }
      }
    },
    "kernel_info": {
      "name": "python310-sdkv2"
    },
    "nteract": {
      "version": "nteract-front-end@1.0.0"
    }
  },
  "nbformat": 4,
  "nbformat_minor": 2
}