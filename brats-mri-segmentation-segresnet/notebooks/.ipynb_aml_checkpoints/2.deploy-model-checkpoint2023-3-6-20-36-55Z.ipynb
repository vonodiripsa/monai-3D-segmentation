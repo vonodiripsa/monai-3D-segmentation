{
  "cells": [
    {
      "cell_type": "code",
      "source": [
        "import base64\r\n",
        "import json\r\n",
        "from azure.ai.ml import MLClient, Input\r\n",
        "from azure.ai.ml.entities import ManagedOnlineEndpoint, ManagedOnlineDeployment, Model, CodeConfiguration, OnlineRequestSettings\r\n",
        "#from azure.ai.ml.entities import ManagedOnlineEndpoint, ManagedOnlineDeployment, Model, Environment, JobService, Data, CodeConfiguration, OnlineRequestSettings, AmlCompute\r\n",
        "\r\n",
        "from azure.ai.ml.constants import AssetTypes\r\n",
        "from azure.identity import DefaultAzureCredential"
      ],
      "outputs": [],
      "execution_count": 31,
      "metadata": {
        "gather": {
          "logged": 1679437753762
        }
      }
    },
    {
      "cell_type": "code",
      "source": [
        "# AzureML Workspace\r\n",
        "subscription_id = 'b7d41fc8-d35d-41db-92ed-1f7f1d32d4d9'\r\n",
        "resource_group = 'ams-monai-seg-reg-rg'\r\n",
        "workspace = 'ams-monai-seg-reg-wg'"
      ],
      "outputs": [],
      "execution_count": 2,
      "metadata": {
        "jupyter": {
          "source_hidden": false,
          "outputs_hidden": false
        },
        "nteract": {
          "transient": {
            "deleting": false
          }
        },
        "gather": {
          "logged": 1679430835659
        }
      }
    },
    {
      "cell_type": "code",
      "source": [
        "ml_client = MLClient(DefaultAzureCredential(), subscription_id, resource_group, workspace)"
      ],
      "outputs": [],
      "execution_count": 27,
      "metadata": {
        "jupyter": {
          "source_hidden": false,
          "outputs_hidden": false
        },
        "nteract": {
          "transient": {
            "deleting": false
          }
        },
        "gather": {
          "logged": 1679436940415
        }
      }
    },
    {
      "cell_type": "code",
      "source": [
        "# Deployment\r\n",
        "online_endpoint_name = \"SRG-endpoint\"\r\n",
        "registered_model_name = 'SRG'\r\n",
        "deployment_name = 'red'"
      ],
      "outputs": [],
      "execution_count": 30,
      "metadata": {
        "jupyter": {
          "source_hidden": false,
          "outputs_hidden": false
        },
        "nteract": {
          "transient": {
            "deleting": false
          }
        },
        "gather": {
          "logged": 1679437721818
        }
      }
    },
    {
      "cell_type": "code",
      "source": [
        "# Let's pick the latest version of the model\r\n",
        "latest_model_version = max([int(m.version) for m in ml_client.models.list(name= registered_model_name)])\r\n",
        "\r\n",
        "print(f'Latest version of {registered_model_name} found: {latest_model_version}')"
      ],
      "outputs": [
        {
          "output_type": "stream",
          "name": "stdout",
          "text": "Latest version of SRG found: 1\n"
        }
      ],
      "execution_count": 12,
      "metadata": {
        "jupyter": {
          "source_hidden": false,
          "outputs_hidden": false
        },
        "nteract": {
          "transient": {
            "deleting": false
          }
        },
        "gather": {
          "logged": 1679373396183
        }
      }
    },
    {
      "cell_type": "code",
      "source": [
        "# model_name = 'sklearn-diabetes'\r\n",
        "# model_local_path = \"sklearn-diabetes/model\"\r\n",
        "# model = ml_client.models.create_or_update(\r\n",
        "#         Model(name=model_name, path=model_local_path, type=AssetTypes.MLFLOW_MODEL)\r\n",
        "# )\r\n",
        "\r\n",
        "model = ml_client.models.get(name=registered_model_name, version=1)\r\n"
      ],
      "outputs": [],
      "execution_count": 6,
      "metadata": {
        "jupyter": {
          "source_hidden": false,
          "outputs_hidden": false
        },
        "nteract": {
          "transient": {
            "deleting": false
          }
        },
        "gather": {
          "logged": 1679430896026
        }
      }
    },
    {
      "cell_type": "code",
      "source": [
        "#endpoint_name = \"SRG-endpoint\" + datetime.datetime.now().strftime(\"%m%d%H%M%f\")\r\n",
        "endpoint_name = online_endpoint_name\r\n",
        "\r\n",
        "endpoint = ManagedOnlineEndpoint(\r\n",
        "    name=endpoint_name,\r\n",
        "    description=\"An online endpoint to generate predictions for the diabetes dataset\",\r\n",
        "    auth_mode=\"key\",\r\n",
        "    tags={\"foo\": \"bar\"},\r\n",
        ")"
      ],
      "outputs": [],
      "execution_count": 15,
      "metadata": {
        "jupyter": {
          "source_hidden": false,
          "outputs_hidden": false
        },
        "nteract": {
          "transient": {
            "deleting": false
          }
        },
        "gather": {
          "logged": 1679377855011
        }
      }
    },
    {
      "cell_type": "code",
      "source": [
        "ml_client.begin_create_or_update(endpoint)"
      ],
      "outputs": [
        {
          "output_type": "execute_result",
          "execution_count": 16,
          "data": {
            "text/plain": "<azure.core.polling._poller.LROPoller at 0x7fd45ecff250>"
          },
          "metadata": {}
        }
      ],
      "execution_count": 16,
      "metadata": {
        "jupyter": {
          "source_hidden": false,
          "outputs_hidden": false
        },
        "nteract": {
          "transient": {
            "deleting": false
          }
        },
        "gather": {
          "logged": 1679377877965
        }
      }
    },
    {
      "cell_type": "code",
      "source": [
        "blue_deployment = ManagedOnlineDeployment(\r\n",
        "    name=deployment_name,\r\n",
        "    endpoint_name=online_endpoint_name,\r\n",
        "    model=model,\r\n",
        "    environment=\"srg-env:2\",\r\n",
        "    code_configuration=CodeConfiguration(\r\n",
        "        code=\"./src\",\r\n",
        "        scoring_script=\"score.py\"\r\n",
        "    ),\r\n",
        "    instance_type=\"Standard_NC4as_T4_v3\",\r\n",
        "    instance_count=1,\r\n",
        "    request_settings= OnlineRequestSettings(request_timeout_ms = 90000),\r\n",
        ")"
      ],
      "outputs": [],
      "execution_count": 32,
      "metadata": {
        "jupyter": {
          "source_hidden": false,
          "outputs_hidden": false
        },
        "nteract": {
          "transient": {
            "deleting": false
          }
        },
        "gather": {
          "logged": 1679437765140
        }
      }
    },
    {
      "cell_type": "code",
      "source": [
        "deployment = ml_client.begin_create_or_update(blue_deployment)"
      ],
      "outputs": [
        {
          "output_type": "stream",
          "name": "stderr",
          "text": "Check: endpoint SRG-endpoint exists\ndata_collector is not a known attribute of class <class 'azure.ai.ml._restclient.v2022_02_01_preview.models._models_py3.ManagedOnlineDeployment'> and will be ignored\n"
        },
        {
          "output_type": "stream",
          "name": "stdout",
          "text": "..............................."
        }
      ],
      "execution_count": 33,
      "metadata": {
        "jupyter": {
          "source_hidden": false,
          "outputs_hidden": false
        },
        "nteract": {
          "transient": {
            "deleting": false
          }
        },
        "gather": {
          "logged": 1679437778682
        }
      }
    },
    {
      "cell_type": "code",
      "source": [
        "endpoint = ml_client.online_endpoints.get(online_endpoint_name)\r\n",
        "print(f\"Endpoint {endpoint.name} provisioning state: {endpoint.provisioning_state}\")"
      ],
      "outputs": [
        {
          "output_type": "stream",
          "name": "stdout",
          "text": "Endpoint srg-endpoint provisioning state: Succeeded\n"
        }
      ],
      "execution_count": 34,
      "metadata": {
        "jupyter": {
          "source_hidden": false,
          "outputs_hidden": false
        },
        "nteract": {
          "transient": {
            "deleting": false
          }
        },
        "gather": {
          "logged": 1679440228189
        }
      }
    },
    {
      "cell_type": "code",
      "source": [
        "ml_client.online_deployments.get_logs(\r\n",
        "    name=deployment_name, endpoint_name=online_endpoint_name, lines=50\r\n",
        ")"
      ],
      "outputs": [],
      "execution_count": null,
      "metadata": {
        "jupyter": {
          "source_hidden": false,
          "outputs_hidden": false
        },
        "nteract": {
          "transient": {
            "deleting": false
          }
        }
      }
    },
    {
      "cell_type": "code",
      "source": [
        "# existing traffic details\r\n",
        "print(endpoint.traffic)\r\n",
        "\r\n",
        "# Get the scoring URI\r\n",
        "print(endpoint.scoring_uri)"
      ],
      "outputs": [
        {
          "output_type": "stream",
          "name": "stdout",
          "text": "{'red': 0, 'blue': 0}\nhttps://srg-endpoint.westeurope.inference.ml.azure.com/score\n"
        }
      ],
      "execution_count": 35,
      "metadata": {
        "jupyter": {
          "source_hidden": false,
          "outputs_hidden": false
        },
        "nteract": {
          "transient": {
            "deleting": false
          }
        },
        "gather": {
          "logged": 1679440235786
        }
      }
    },
    {
      "cell_type": "code",
      "source": [
        "# blue deployment takes 100 traffic\r\n",
        "endpoint.traffic = {\"blue\": 100}\r\n",
        "ml_client.online_endpoints.begin_create_or_update(endpoint).result()"
      ],
      "outputs": [],
      "execution_count": null,
      "metadata": {
        "jupyter": {
          "source_hidden": false,
          "outputs_hidden": false
        },
        "nteract": {
          "transient": {
            "deleting": false
          }
        }
      }
    },
    {
      "cell_type": "code",
      "source": [
        "# Visualization and validation sample\r\n",
        "sample_image = './samples-2021/BraTS2021_00402/BraTS2021_00402_flair.nii.gz' # pick flair modality\r\n",
        "sample_image_t1 = './samples-2021/BraTS2021_00402/BraTS2021_00402_t1.nii.gz'\r\n",
        "sample_image_t1ce = './samples-2021/BraTS2021_00402/BraTS2021_00402_t1ce.nii.gz'\r\n",
        "sample_image_t2 = './samples-2021/BraTS2021_00402/BraTS2021_00402_t2.nii.gz'\r\n",
        "sample_label = './samples-2021/BraTS2021_00402/BraTS2021_00402_seg.nii.gz'"
      ],
      "outputs": [],
      "execution_count": 23,
      "metadata": {
        "jupyter": {
          "source_hidden": false,
          "outputs_hidden": false
        },
        "nteract": {
          "transient": {
            "deleting": false
          }
        },
        "gather": {
          "logged": 1679436480831
        }
      }
    },
    {
      "cell_type": "code",
      "source": [],
      "outputs": [],
      "execution_count": null,
      "metadata": {
        "jupyter": {
          "source_hidden": false,
          "outputs_hidden": false
        },
        "nteract": {
          "transient": {
            "deleting": false
          }
        }
      }
    },
    {
      "cell_type": "code",
      "source": [
        "# Encode input images for JSON request file\r\n",
        "with open(sample_image, \"rb\") as image_file:\r\n",
        "    flair_encoded = base64.b64encode(image_file.read()).decode('utf-8')\r\n",
        "\r\n",
        "with open(sample_image_t1, \"rb\") as image_file:\r\n",
        "    t1_encoded = base64.b64encode(image_file.read()).decode('utf-8')\r\n",
        "\r\n",
        "with open(sample_image_t1ce, \"rb\") as image_file:\r\n",
        "    t1ce_encoded = base64.b64encode(image_file.read()).decode('utf-8')\r\n",
        "\r\n",
        "with open(sample_image_t2, \"rb\") as image_file:\r\n",
        "    t2_encoded = base64.b64encode(image_file.read()).decode('utf-8')\r\n",
        "\r\n",
        "request_data = {\r\n",
        "    \"data\": [{\"flair\": flair_encoded, \"t1\": t1_encoded, \r\n",
        "              \"t1ce\": t1ce_encoded, \"t2\": t2_encoded\r\n",
        "             }]\r\n",
        "}\r\n",
        "\r\n",
        "# Write the JSON request data to a file\r\n",
        "with open(\"request-1.json\", \"w\") as outfile:\r\n",
        "    json.dump(request_data, outfile)"
      ],
      "outputs": [],
      "execution_count": 25,
      "metadata": {
        "jupyter": {
          "source_hidden": false,
          "outputs_hidden": false
        },
        "nteract": {
          "transient": {
            "deleting": false
          }
        },
        "gather": {
          "logged": 1679436527648
        }
      }
    },
    {
      "cell_type": "code",
      "source": [
        "response = ml_client.online_endpoints.invoke(\r\n",
        "    endpoint_name= online_endpoint_name,\r\n",
        "    deployment_name= deployment_name,\r\n",
        "    request_timeout_ms=90000,\r\n",
        "    request_file=\"./request-1.json\",\r\n",
        ")\r\n"
      ],
      "outputs": [],
      "execution_count": 36,
      "metadata": {
        "jupyter": {
          "source_hidden": false,
          "outputs_hidden": false
        },
        "nteract": {
          "transient": {
            "deleting": false
          }
        },
        "gather": {
          "logged": 1679440287687
        }
      }
    },
    {
      "cell_type": "code",
      "source": [
        "import numpy as np\r\n",
        "import matplotlib.pyplot as plt\r\n",
        "\r\n",
        "\r\n",
        "# convert response to numpy array with dimensions channel, height, width, slice\r\n",
        "json_response = json.loads(response)\r\n",
        "pred_vol = np.array(json_response)"
      ],
      "outputs": [],
      "execution_count": 37,
      "metadata": {
        "jupyter": {
          "source_hidden": false,
          "outputs_hidden": false
        },
        "nteract": {
          "transient": {
            "deleting": false
          }
        },
        "gather": {
          "logged": 1679440372649
        }
      }
    },
    {
      "cell_type": "code",
      "source": [
        "import torch\r\n",
        "from monai.apps import DecathlonDataset\r\n",
        "from monai.data import DataLoader, Dataset\r\n",
        "from monai.transforms import Compose, LoadImaged, EnsureChannelFirstd, EnsureTyped, Orientationd, Spacingd, NormalizeIntensityd, MapTransform\r\n",
        "from monai.visualize.utils import blend_images\r\n",
        "\r\n",
        "class ConvertToMultiChannelBasedOnBratsClassesd(MapTransform):\r\n",
        "    \"\"\"\r\n",
        "    Convert labels to multi channels based on brats 2021 classes:\r\n",
        "    label 1 necrotic tumor core (NCR)\r\n",
        "    label 2 peritumoral edematous/invaded tissue \r\n",
        "    label 3 is not used in the new dataset version\r\n",
        "    label 4 GD-enhancing tumor \r\n",
        "    The possible classes are:\r\n",
        "      TC (Tumor core): merge labels 1 and 4\r\n",
        "      WT (Whole tumor): merge labels 1,2 and 4\r\n",
        "      ET (Enhancing tumor): label 4\r\n",
        "\r\n",
        "    \"\"\"\r\n",
        "\r\n",
        "    def __call__(self, data):\r\n",
        "        d = dict(data)\r\n",
        "        for key in self.keys:\r\n",
        "            result = []\r\n",
        "            # merge label 1 and label 4 to construct TC\r\n",
        "            result.append(torch.logical_or(d[key] == 1, d[key] == 4))\r\n",
        "            # merge labels 1, 2 and 4 to construct WT\r\n",
        "            result.append(\r\n",
        "                torch.logical_or(\r\n",
        "                    torch.logical_or(d[key] == 1, d[key] == 2), d[key] == 4\r\n",
        "                )\r\n",
        "            )\r\n",
        "            # label 4 is ET\r\n",
        "            result.append(d[key] == 4)\r\n",
        "            d[key] = torch.stack(result, axis=0).float()\r\n",
        "        return d\r\n",
        "\r\n",
        "val_transform = Compose(\r\n",
        "[\r\n",
        "    LoadImaged(keys=[\"image\", \"label\"]),\r\n",
        "    EnsureChannelFirstd(keys=\"image\"),\r\n",
        "    EnsureTyped(keys=[\"image\", \"label\"]),\r\n",
        "    ConvertToMultiChannelBasedOnBratsClassesd(keys=\"label\"),\r\n",
        "    Orientationd(keys=[\"image\", \"label\"], axcodes=\"RAS\"),\r\n",
        "    Spacingd(\r\n",
        "        keys=[\"image\", \"label\"],\r\n",
        "        pixdim=(1.0, 1.0, 1.0),\r\n",
        "        mode=(\"bilinear\", \"nearest\"),\r\n",
        "    ),\r\n",
        "    NormalizeIntensityd(keys=\"image\", nonzero=True, channel_wise=True),\r\n",
        "])\r\n",
        "\r\n",
        "data_list = [{'image': sample_image, 'label': sample_label}]\r\n",
        "val_ds = Dataset(data=data_list, transform=val_transform)\r\n",
        "\r\n",
        "img_vol = val_ds[0][\"image\"].numpy()\r\n",
        "seg_vol = val_ds[0][\"label\"].numpy()"
      ],
      "outputs": [],
      "execution_count": 38,
      "metadata": {
        "jupyter": {
          "source_hidden": false,
          "outputs_hidden": false
        },
        "nteract": {
          "transient": {
            "deleting": false
          }
        },
        "gather": {
          "logged": 1679440596903
        }
      }
    },
    {
      "cell_type": "code",
      "source": [
        "from ipywidgets import interact\r\n",
        "\r\n",
        "def show_slice(slice_index=60):\r\n",
        "\r\n",
        "    img = np.expand_dims(img_vol[0,:,:,slice_index], 0) # images\r\n",
        "    true_seg = np.expand_dims(seg_vol[0,:,:,slice_index], 0) # annotated ground truth labels\r\n",
        "    pred_seg = np.expand_dims(pred_vol[0,:,:,slice_index], 0)  # predicted labels\r\n",
        "    \r\n",
        "    blend = blend_images(img, true_seg, cmap='hsv')\r\n",
        "    over_true = np.transpose(blend, (1,2,0))\r\n",
        "    blend = blend_images(img, pred_seg, cmap='Blues')\r\n",
        "    over_pred = np.transpose(blend, (1,2,0))\r\n",
        "    \r\n",
        "    fig, ((ax1, ax2)) = plt.subplots(1, 2, figsize=(14, 7))\r\n",
        "\r\n",
        "    ax1.imshow(over_true)\r\n",
        "    ax1.set_title('Ground truth segmentations')\r\n",
        "    ax2.imshow(over_pred)\r\n",
        "    ax2.set_title('Predicted segmentations')\r\n",
        "    \r\n",
        "    plt.tight_layout()\r\n",
        "    plt.show()\r\n",
        "\r\n",
        "# Use the interact function to create a slider for the slice index\r\n",
        "_ = interact(show_slice, slice_index=(0, img_vol.shape[-1]-1))"
      ],
      "outputs": [
        {
          "output_type": "display_data",
          "data": {
            "text/plain": "<Figure size 1008x504 with 2 Axes>",
            "image/png": "[encoded data removed]"
          },
          "metadata": {
            "needs_background": "light"
          }
        }
      ],
      "execution_count": 39,
      "metadata": {
        "jupyter": {
          "source_hidden": false,
          "outputs_hidden": false
        },
        "nteract": {
          "transient": {
            "deleting": false
          }
        },
        "gather": {
          "logged": 1679440616602
        }
      }
    }
  ],
  "metadata": {
    "kernelspec": {
      "name": "python310-sdkv2",
      "language": "python",
      "display_name": "Python 3.10 - SDK v2"
    },
    "language_info": {
      "name": "python",
      "version": "3.10.9",
      "mimetype": "text/x-python",
      "codemirror_mode": {
        "name": "ipython",
        "version": 3
      },
      "pygments_lexer": "ipython3",
      "nbconvert_exporter": "python",
      "file_extension": ".py"
    },
    "microsoft": {
      "ms_spell_check": {
        "ms_spell_check_language": "en"
      },
      "host": {
        "AzureML": {
          "notebookHasBeenCompleted": true
        }
      }
    },
    "kernel_info": {
      "name": "python310-sdkv2"
    },
    "nteract": {
      "version": "nteract-front-end@1.0.0"
    }
  },
  "nbformat": 4,
  "nbformat_minor": 2
}