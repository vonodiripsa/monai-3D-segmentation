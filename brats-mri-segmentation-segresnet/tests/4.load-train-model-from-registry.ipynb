{
  "cells": [
    {
      "cell_type": "markdown",
      "source": [
        "## Installs\r\n",
        "_Do it only once_"
      ],
      "metadata": {
        "nteract": {
          "transient": {
            "deleting": false
          }
        }
      }
    },
    {
      "cell_type": "code",
      "source": [
        "# based on azureml_py310_sdkv2 kernel\r\n",
        "# %pip install torch==1.12.0 torchvision==0.13.0 torchaudio==0.12.0\r\n",
        "# %pip install 'monai[nibabel, ignite, tqdm]'\r\n",
        "# %pip install itkwidgets\r\n",
        "# %pip install --upgrade azure-ai-ml #to have SDK 2 (1.5.0)"
      ],
      "outputs": [],
      "execution_count": 1,
      "metadata": {
        "jupyter": {
          "source_hidden": false,
          "outputs_hidden": false
        },
        "nteract": {
          "transient": {
            "deleting": false
          }
        },
        "gather": {
          "logged": 1681942590620
        }
      }
    },
    {
      "cell_type": "markdown",
      "source": [
        "## Import Libraries"
      ],
      "metadata": {
        "nteract": {
          "transient": {
            "deleting": false
          }
        }
      }
    },
    {
      "cell_type": "code",
      "source": [
        "from azure.ai.ml import MLClient, Input\r\n",
        "from azure.identity import DefaultAzureCredential"
      ],
      "outputs": [],
      "execution_count": 5,
      "metadata": {
        "jupyter": {
          "source_hidden": false,
          "outputs_hidden": false
        },
        "nteract": {
          "transient": {
            "deleting": false
          }
        },
        "gather": {
          "logged": 1681942686090
        }
      }
    },
    {
      "cell_type": "markdown",
      "source": [
        "## Define global variables"
      ],
      "metadata": {
        "nteract": {
          "transient": {
            "deleting": false
          }
        }
      }
    },
    {
      "cell_type": "code",
      "source": [
        "# Training\n",
        "experiment_name = 'monai-brain-tumor-from-registry' \n",
        "train_target = 'Standard-NC96ads-A100-v4'\n",
        "\n",
        "# Registry\n",
        "registry_name=\"ams-components\"\n",
        "registry_location=\"westeurope\"\n",
        "\n",
        "#Registry Components\n",
        "upload_data_from_blob_name=\"upload_data_from_blob\"\n",
        "train_segmentation_name=\"train_segmentation\"\n",
        "monai_pipeline_name=\"monai_pipeline\"\n",
        "tar_data_asset_local_name=\"tar_data_asset_local\""
      ],
      "outputs": [],
      "execution_count": 6,
      "metadata": {
        "gather": {
          "logged": 1681942694519
        }
      }
    },
    {
      "cell_type": "markdown",
      "source": [
        "## Create Azure ML and Registry Clients"
      ],
      "metadata": {
        "nteract": {
          "transient": {
            "deleting": false
          }
        }
      }
    },
    {
      "cell_type": "code",
      "source": [
        "credential = DefaultAzureCredential()\r\n",
        "\r\n",
        "ml_client = MLClient.from_config(credential=credential)\r\n",
        "\r\n",
        "ml_client_registry = MLClient(credential=credential,\r\n",
        "                        registry_name=registry_name,\r\n",
        "                        registry_location=registry_location)"
      ],
      "outputs": [
        {
          "output_type": "stream",
          "name": "stderr",
          "text": "Found the config file in: ./config.json\n"
        }
      ],
      "execution_count": 7,
      "metadata": {
        "jupyter": {
          "source_hidden": false,
          "outputs_hidden": false
        },
        "nteract": {
          "transient": {
            "deleting": false
          }
        },
        "gather": {
          "logged": 1681942698254
        }
      }
    },
    {
      "cell_type": "markdown",
      "source": [
        "## Upload Refistry components"
      ],
      "metadata": {
        "nteract": {
          "transient": {
            "deleting": false
          }
        }
      }
    },
    {
      "cell_type": "code",
      "source": [
        "# Upload data\r\n",
        "tar_data_from_registry = ml_client_registry.data.get(name=tar_data_asset_local_name, label='latest')\r\n",
        "# Upload Command components\r\n",
        "upload_component = ml_client_registry.components.get(name=upload_data_from_blob_name, label='latest')\r\n",
        "train_component = ml_client_registry.components.get(name=train_segmentation_name, label='latest')\r\n",
        "#Upload pipeline\r\n",
        "pipeline_from_registry = ml_client_registry.components.get(name=monai_pipeline_name, label='latest')"
      ],
      "outputs": [],
      "execution_count": 9,
      "metadata": {
        "jupyter": {
          "source_hidden": false,
          "outputs_hidden": false
        },
        "nteract": {
          "transient": {
            "deleting": false
          }
        },
        "gather": {
          "logged": 1681942713804
        }
      }
    },
    {
      "cell_type": "markdown",
      "source": [
        "## Run Pipeline Job"
      ],
      "metadata": {
        "nteract": {
          "transient": {
            "deleting": false
          }
        }
      }
    },
    {
      "cell_type": "code",
      "source": [
        "pipeline_job = pipeline_from_registry(\r\n",
        "       pipeline_input_file=Input(type=\"uri_file\", path=tar_data_from_registry.id)\r\n",
        ")\r\n",
        "\r\n",
        "pipeline_job.settings.default_compute = train_target\r\n"
      ],
      "outputs": [],
      "execution_count": 10,
      "metadata": {
        "jupyter": {
          "source_hidden": false,
          "outputs_hidden": false
        },
        "nteract": {
          "transient": {
            "deleting": false
          }
        },
        "gather": {
          "logged": 1681942723886
        }
      }
    },
    {
      "cell_type": "code",
      "source": [
        "ml_client.jobs.create_or_update(pipeline_job, experiment_name=experiment_name)"
      ],
      "outputs": [
        {
          "output_type": "execute_result",
          "execution_count": 11,
          "data": {
            "text/plain": "PipelineJob({'inputs': {'pipeline_input_file': <azure.ai.ml.entities._job.pipeline._io.base.PipelineInput object at 0x7fa9ac5da920>}, 'outputs': {}, 'jobs': {}, 'component': 'azureml://registries/ams-components/components/monai_pipeline/versions/1', 'type': 'pipeline', 'status': 'Preparing', 'log_files': None, 'name': 'careful_street_3r8v68fj02', 'description': None, 'tags': {}, 'properties': {'azureml.SourceComponentId': 'azureml://registries/ams-components/components/monai_pipeline/versions/1', 'azureml.DevPlatv2': 'true', 'azureml.DatasetAccessMode': 'Asset', 'azureml.runsource': 'azureml.PipelineRun', 'runSource': 'MFE', 'runType': 'HTTP', 'azureml.parameters': '{}', 'azureml.continue_on_step_failure': 'True', 'azureml.continue_on_failed_optional_input': 'True', 'azureml.enforceRerun': 'False', 'azureml.defaultComputeName': 'Standard-NC96ads-A100-v4', 'azureml.defaultDataStoreName': 'workspaceblobstore', 'azureml.pipelineComponent': 'pipelinerun'}, 'print_as_yaml': True, 'id': '/subscriptions/b7d41fc8-d35d-41db-92ed-1f7f1d32d4d9/resourceGroups/monai-ml-demo/providers/Microsoft.MachineLearningServices/workspaces/monai-ml-demo/jobs/careful_street_3r8v68fj02', 'Resource__source_path': None, 'base_path': '/mnt/batch/tasks/shared/LS_root/mounts/clusters/standard-nc96ads-a100-v4/code/Users/aspiridonov/monai-3D-segmentation/brats-mri-segmentation-segresnet/notebooks', 'creation_context': <azure.ai.ml.entities._system_data.SystemData object at 0x7fa9ac593ee0>, 'serialize': <msrest.serialization.Serializer object at 0x7fa9ac603a60>, 'display_name': 'monai_pipeline', 'experiment_name': 'monai-brain-tumor-from-registry', 'compute': None, 'services': {'Tracking': <azure.ai.ml.entities._job.job_service.JobService object at 0x7fa9ac591d20>, 'Studio': <azure.ai.ml.entities._job.job_service.JobService object at 0x7fa9ac591de0>}, 'settings': {}, 'identity': None, 'default_code': None, 'default_environment': None})",
            "text/html": "<table style=\"width:100%\"><tr><th>Experiment</th><th>Name</th><th>Type</th><th>Status</th><th>Details Page</th></tr><tr><td>monai-brain-tumor-from-registry</td><td>careful_street_3r8v68fj02</td><td>pipeline</td><td>Preparing</td><td><a href=\"https://ml.azure.com/runs/careful_street_3r8v68fj02?wsid=/subscriptions/b7d41fc8-d35d-41db-92ed-1f7f1d32d4d9/resourcegroups/monai-ml-demo/workspaces/monai-ml-demo&amp;tid=43083d15-7273-40c1-b7db-39efd9ccc17a\" target=\"_blank\" rel=\"noopener\">Link to Azure Machine Learning studio</a></td></tr></table>"
          },
          "metadata": {}
        }
      ],
      "execution_count": 11,
      "metadata": {
        "jupyter": {
          "source_hidden": false,
          "outputs_hidden": false
        },
        "nteract": {
          "transient": {
            "deleting": false
          }
        },
        "gather": {
          "logged": 1681942804600
        }
      }
    }
  ],
  "metadata": {
    "kernelspec": {
      "name": "python310-sdkv2",
      "language": "python",
      "display_name": "Python 3.10 - SDK v2"
    },
    "language_info": {
      "name": "python",
      "version": "3.10.9",
      "mimetype": "text/x-python",
      "codemirror_mode": {
        "name": "ipython",
        "version": 3
      },
      "pygments_lexer": "ipython3",
      "nbconvert_exporter": "python",
      "file_extension": ".py"
    },
    "orig_nbformat": 4,
    "microsoft": {
      "ms_spell_check": {
        "ms_spell_check_language": "en"
      },
      "host": {
        "AzureML": {
          "notebookHasBeenCompleted": true
        }
      }
    },
    "kernel_info": {
      "name": "python310-sdkv2"
    },
    "nteract": {
      "version": "nteract-front-end@1.0.0"
    }
  },
  "nbformat": 4,
  "nbformat_minor": 2
}