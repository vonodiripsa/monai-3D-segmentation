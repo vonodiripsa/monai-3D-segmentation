{
  "cells": [
    {
      "attachments": {},
      "cell_type": "markdown",
      "source": [
        "## Installs and Imports"
      ],
      "metadata": {}
    },
    {
      "cell_type": "code",
      "source": [
        "import os\n",
        "import tempfile\n",
        "import base64\n",
        "import json\n",
        "\n",
        "import numpy as np\n",
        "import matplotlib.pyplot as plt\n",
        "\n",
        "import torch\n",
        "\n",
        "import tarfile\n",
        "import urllib.request\n",
        "\n",
        "from itkwidgets import view\n",
        "from ipywidgets import interact\n",
        "\n",
        "from azure.identity import DefaultAzureCredential\n",
        "from azure.ai.ml import MLClient, command, Input\n",
        "from azure.ai.ml.constants import AssetTypes\n",
        "from azure.ai.ml.entities import ManagedOnlineEndpoint, ManagedOnlineDeployment, Model, Environment, JobService, Data, CodeConfiguration, OnlineRequestSettings, AmlCompute\n",
        "from azure.core.exceptions import ResourceNotFoundError\n",
        "\n",
        "from monai.apps import DecathlonDataset\n",
        "from monai.data import DataLoader, Dataset\n",
        "from monai.transforms import Compose, LoadImaged, EnsureChannelFirstd, EnsureTyped, Orientationd, Spacingd, NormalizeIntensityd, MapTransform\n",
        "from monai.visualize.utils import blend_images"
      ],
      "outputs": [],
      "execution_count": 3,
      "metadata": {
        "gather": {
          "logged": 1679345165421
        }
      }
    },
    {
      "attachments": {},
      "cell_type": "markdown",
      "source": [
        "## Define central variables"
      ],
      "metadata": {}
    },
    {
      "cell_type": "code",
      "source": [
        "# AzureML Workspace\n",
        "subscription_id = 'b7d41fc8-d35d-41db-92ed-1f7f1d32d4d9'\n",
        "resource_group = 'ams-monai-seg-reg-rg'\n",
        "workspace = 'ams-monai-seg-reg-wg'\n",
        "\n",
        "# Training\n",
        "experiment = 'brain-tumor-segmentation' # AzureML experiment name\n",
        "dataset_name=\"BRATS2021\"\n",
        "#train_target = 'NC96adsA100'\n",
        "#train_target = 'NC64asT4v3'\n",
        "train_target = 'NC96A100'\n",
        "\n",
        "# Deployment\n",
        "online_endpoint_name = \"brain-tumor-SegResNet-1\"\n",
        "registered_model_name = 'SegRes-1'\n",
        "deployment_name = 'red'\n",
        "\n",
        "# Visualization and validation sample\n",
        "sample_image = './samples-2021/BraTS2021_00402/BraTS2021_00402_flair.nii.gz' # pick flair modality\n",
        "sample_image_t1 = './samples-2021/BraTS2021_00402/BraTS2021_00402_t1.nii.gz'\n",
        "sample_image_t1ce = './samples-2021/BraTS2021_00402/BraTS2021_00402_t1ce.nii.gz'\n",
        "sample_image_t2 = './samples-2021/BraTS2021_00402/BraTS2021_00402_t2.nii.gz'\n",
        "sample_label = './samples-2021/BraTS2021_00402/BraTS2021_00402_seg.nii.gz'"
      ],
      "outputs": [],
      "execution_count": 4,
      "metadata": {
        "gather": {
          "logged": 1679345166739
        }
      }
    },
    {
      "cell_type": "code",
      "source": [
        "# Connect to AzureML Workspace\n",
        "ml_client = MLClient(DefaultAzureCredential(), subscription_id, resource_group, workspace)"
      ],
      "outputs": [
        {
          "output_type": "stream",
          "name": "stdout",
          "text": "2023-03-20 20:46:09,911 - No environment configuration found.\n2023-03-20 20:46:09,913 - ManagedIdentityCredential will use Azure ML managed identity\n"
        }
      ],
      "execution_count": 5,
      "metadata": {
        "gather": {
          "logged": 1679345171102
        }
      }
    },
    {
      "attachments": {},
      "cell_type": "markdown",
      "source": [
        "## Submit Parallel Training Job\n",
        "We are using multi-GPU PyTorch Distrubuted Data Parallel training with scalable Azure ML compute resources. Feel free to change the number of cluster nodes `instance_count` and the number of GPUs per node `process_count_per_instance` to leverage depending on the compute SKU you provisioned.  \n",
        "Note that you can interact with the job for monitoring or debugging using JupyterLab, VSCode, or Tensorboard during training."
      ],
      "metadata": {}
    },
    {
      "attachments": {},
      "cell_type": "markdown",
      "source": [
        "## Deploy model to a Managed Endpoint"
      ],
      "metadata": {}
    },
    {
      "cell_type": "code",
      "source": [
        "# create an online endpoint\n",
        "endpoint = ManagedOnlineEndpoint(\n",
        "    name=online_endpoint_name,\n",
        "    description=\"MONAI 3d brain tumor segmentation req endpint\",\n",
        "    auth_mode=\"key\",\n",
        "    tags={\n",
        "        \"training_dataset\": \"Medical Segmentation Decathlon: Brain tumor segmentation\",\n",
        "        \"model_type\": \"pytorch\",\n",
        "        \"dataset\" : dataset_name,\n",
        "    },\n",
        ")\n",
        "\n",
        "endpoint = ml_client.begin_create_or_update(endpoint)"
      ],
      "outputs": [
        {
          "output_type": "stream",
          "name": "stdout",
          "text": "2023-03-20 20:47:19,692 - DefaultAzureCredential acquired a token from ManagedIdentityCredential\n2023-03-20 20:47:20,604 - DefaultAzureCredential acquired a token from ManagedIdentityCredential\n"
        }
      ],
      "execution_count": 6,
      "metadata": {
        "gather": {
          "logged": 1679345246607
        }
      }
    },
    {
      "cell_type": "code",
      "source": [
        "endpoint = ml_client.online_endpoints.get(online_endpoint_name)\n",
        "print(f\"Endpoint {endpoint.name} provisioning state: {endpoint.provisioning_state}\")"
      ],
      "outputs": [
        {
          "output_type": "stream",
          "name": "stdout",
          "text": "Endpoint brain-tumor-segresnet-1 provisioning state: Succeeded\n"
        }
      ],
      "execution_count": 10,
      "metadata": {
        "gather": {
          "logged": 1679345338858
        }
      }
    },
    {
      "cell_type": "code",
      "source": [
        "# Let's pick the latest version of the model\n",
        "latest_model_version = max([int(m.version) for m in ml_client.models.list(name= registered_model_name)])\n",
        "\n",
        "print(f'Latest version of {registered_model_name} found: {latest_model_version}')"
      ],
      "outputs": [
        {
          "output_type": "stream",
          "name": "stdout",
          "text": "2023-03-20 20:49:04,559 - DefaultAzureCredential acquired a token from ManagedIdentityCredential\nLatest version of SegRes-1 found: 1\n"
        }
      ],
      "execution_count": 11,
      "metadata": {
        "gather": {
          "logged": 1679345346835
        }
      }
    },
    {
      "cell_type": "code",
      "source": [
        "# picking the model to deploy. Here we use the latest version of our registered model\n",
        "model = ml_client.models.get(name=registered_model_name, version= latest_model_version)"
      ],
      "outputs": [],
      "execution_count": 12,
      "metadata": {
        "gather": {
          "logged": 1679345358187
        }
      }
    },
    {
      "cell_type": "code",
      "source": [
        "from azureml.core.model import Model\r\n",
        "from azureml.core.workspace import Workspace\r\n",
        "\r\n",
        "ws = Workspace(subscription_id, resource_group, workspace)\r\n",
        "\r\n",
        "#Model.list(get_model_path(\"best_metric_model\", version=None, _workspace=None))\r\n",
        "Model.list(ws)"
      ],
      "outputs": [
        {
          "output_type": "stream",
          "name": "stdout",
          "text": "2023-03-20 22:22:47,863 - Created a worker pool for first use\n"
        },
        {
          "output_type": "execute_result",
          "execution_count": 33,
          "data": {
            "text/plain": "[Model(workspace=Workspace.create(name='ams-monai-seg-reg-wg', subscription_id='b7d41fc8-d35d-41db-92ed-1f7f1d32d4d9', resource_group='ams-monai-seg-reg-rg'), name=SegRes-1, id=SegRes-1:1, version=1, tags={}, properties={'azureml.datastoreId': '/subscriptions/b7d41fc8-d35d-41db-92ed-1f7f1d32d4d9/resourceGroups/ams-monai-seg-reg-rg/providers/Microsoft.MachineLearningServices/workspaces/ams-monai-seg-reg-wg/datastores/workspaceartifactstore'}),\n Model(workspace=Workspace.create(name='ams-monai-seg-reg-wg', subscription_id='b7d41fc8-d35d-41db-92ed-1f7f1d32d4d9', resource_group='ams-monai-seg-reg-rg'), name=brat-best-model, id=brat-best-model:1, version=1, tags={}, properties={'azureml.datastoreId': '/subscriptions/b7d41fc8-d35d-41db-92ed-1f7f1d32d4d9/resourceGroups/ams-monai-seg-reg-rg/providers/Microsoft.MachineLearningServices/workspaces/ams-monai-seg-reg-wg/datastores/workspaceartifactstore'}),\n Model(workspace=Workspace.create(name='ams-monai-seg-reg-wg', subscription_id='b7d41fc8-d35d-41db-92ed-1f7f1d32d4d9', resource_group='ams-monai-seg-reg-rg'), name=brats21-model, id=brats21-model:1, version=1, tags={}, properties={'azureml.datastoreId': '/subscriptions/b7d41fc8-d35d-41db-92ed-1f7f1d32d4d9/resourceGroups/ams-monai-seg-reg-rg/providers/Microsoft.MachineLearningServices/workspaces/ams-monai-seg-reg-wg/datastores/workspaceartifactstore'})]"
          },
          "metadata": {}
        }
      ],
      "execution_count": 33,
      "metadata": {
        "jupyter": {
          "source_hidden": false,
          "outputs_hidden": false
        },
        "nteract": {
          "transient": {
            "deleting": false
          }
        },
        "gather": {
          "logged": 1679350970844
        }
      }
    },
    {
      "cell_type": "code",
      "source": [
        "score_env = \"brats-inference-env\"\r\n",
        "\r\n",
        "model = ml_client.models.get(name=registered_model_name, version= latest_model_version)\r\n",
        "\r\n",
        "model.path\r\n",
        "\r\n",
        "os.getenv(\"AZUREML_MODEL_DIR\")\r\n",
        "\r\n"
      ],
      "outputs": [],
      "execution_count": 44,
      "metadata": {
        "jupyter": {
          "source_hidden": false,
          "outputs_hidden": false
        },
        "nteract": {
          "transient": {
            "deleting": false
          }
        },
        "gather": {
          "logged": 1679356612895
        }
      }
    },
    {
      "cell_type": "code",
      "source": [
        "# create an online deployment.\n",
        "deployment = ManagedOnlineDeployment(\n",
        "    name = deployment_name,\n",
        "    endpoint_name = online_endpoint_name,\n",
        "    model = model,\n",
        "    environment = score_env + \"@latest\",\n",
        "    code_configuration=CodeConfiguration(code= \"./src\", scoring_script=\"score-brats21.py\"),\n",
        "    instance_type = \"Standard_NC4as_T4_v3\",\n",
        "    instance_count = 1,\n",
        "    request_settings= OnlineRequestSettings(request_timeout_ms = 90000),\n",
        "    \n",
        ")\n",
        "deployment = ml_client.begin_create_or_update(deployment)"
      ],
      "outputs": [
        {
          "output_type": "error",
          "ename": "Exception",
          "evalue": "\u001b[31m\n\nError: \n\n1) YAML file cannot be parsed.\n\n\nDetails: \n\nFailed to submit deployment red due to syntax errors in scoring script score-brats21.py.\nError on line 45:      model_path = os.path.join(\n\nIf you wish to bypass this validation use --skip-script-validation paramater.\n\nResolutions:\nDouble-check your YAML file for syntax and formatting errors.\nIf using the CLI, you can also check the full log in debug mode for more details by adding --debug to the end of your command\nAdditional Resources: The easiest way to author a yaml specification file is using IntelliSense and auto-completion Azure ML VS code extension provides: https://code.visualstudio.com/docs/datascience/azure-machine-learning. To set up VS Code, visit https://docs.microsoft.com/azure/machine-learning/how-to-setup-vs-code\n\u001b[39m",
          "traceback": [
            "\u001b[0;31m---------------------------------------------------------------------------\u001b[0m",
            "\u001b[0;31mIndentationError\u001b[0m                          Traceback (most recent call last)",
            "File \u001b[0;32m/anaconda/envs/azureml_py310_sdkv2/lib/python3.10/site-packages/azure/ai/ml/_utils/_endpoint_utils.py:182\u001b[0m, in \u001b[0;36mvalidate_scoring_script\u001b[0;34m(deployment)\u001b[0m\n\u001b[1;32m    181\u001b[0m \u001b[38;5;28;01mtry\u001b[39;00m:\n\u001b[0;32m--> 182\u001b[0m     \u001b[43mast\u001b[49m\u001b[38;5;241;43m.\u001b[39;49m\u001b[43mparse\u001b[49m\u001b[43m(\u001b[49m\u001b[43mcontents\u001b[49m\u001b[43m,\u001b[49m\u001b[43m \u001b[49m\u001b[43mscore_script_path\u001b[49m\u001b[43m)\u001b[49m\n\u001b[1;32m    183\u001b[0m \u001b[38;5;28;01mexcept\u001b[39;00m \u001b[38;5;167;01mException\u001b[39;00m \u001b[38;5;28;01mas\u001b[39;00m err: \u001b[38;5;66;03m# pylint: disable=broad-except\u001b[39;00m\n",
            "File \u001b[0;32m/anaconda/envs/azureml_py310_sdkv2/lib/python3.10/ast.py:50\u001b[0m, in \u001b[0;36mparse\u001b[0;34m(source, filename, mode, type_comments, feature_version)\u001b[0m\n\u001b[1;32m     49\u001b[0m \u001b[38;5;66;03m# Else it should be an int giving the minor version for 3.x.\u001b[39;00m\n\u001b[0;32m---> 50\u001b[0m \u001b[38;5;28;01mreturn\u001b[39;00m \u001b[38;5;28;43mcompile\u001b[39;49m\u001b[43m(\u001b[49m\u001b[43msource\u001b[49m\u001b[43m,\u001b[49m\u001b[43m \u001b[49m\u001b[43mfilename\u001b[49m\u001b[43m,\u001b[49m\u001b[43m \u001b[49m\u001b[43mmode\u001b[49m\u001b[43m,\u001b[49m\u001b[43m \u001b[49m\u001b[43mflags\u001b[49m\u001b[43m,\u001b[49m\n\u001b[1;32m     51\u001b[0m \u001b[43m               \u001b[49m\u001b[43m_feature_version\u001b[49m\u001b[38;5;241;43m=\u001b[39;49m\u001b[43mfeature_version\u001b[49m\u001b[43m)\u001b[49m\n",
            "\u001b[0;31mIndentationError\u001b[0m: unexpected indent (score-brats21.py, line 45)",
            "\nDuring handling of the above exception, another exception occurred:\n",
            "\u001b[0;31mValidationException\u001b[0m                       Traceback (most recent call last)",
            "File \u001b[0;32m/anaconda/envs/azureml_py310_sdkv2/lib/python3.10/site-packages/azure/ai/ml/operations/_online_deployment_operations.py:135\u001b[0m, in \u001b[0;36mOnlineDeploymentOperations.begin_create_or_update\u001b[0;34m(self, deployment, local, vscode_debug, skip_script_validation)\u001b[0m\n\u001b[1;32m    128\u001b[0m \u001b[38;5;28;01mif\u001b[39;00m (\n\u001b[1;32m    129\u001b[0m     \u001b[38;5;129;01mnot\u001b[39;00m skip_script_validation\n\u001b[1;32m    130\u001b[0m     \u001b[38;5;129;01mand\u001b[39;00m deployment\n\u001b[0;32m   (...)\u001b[0m\n\u001b[1;32m    133\u001b[0m     \u001b[38;5;129;01mand\u001b[39;00m \u001b[38;5;129;01mnot\u001b[39;00m re\u001b[38;5;241m.\u001b[39mmatch(AMLVersionedArmId\u001b[38;5;241m.\u001b[39mREGEX_PATTERN, deployment\u001b[38;5;241m.\u001b[39mcode_configuration\u001b[38;5;241m.\u001b[39mcode)\n\u001b[1;32m    134\u001b[0m ):\n\u001b[0;32m--> 135\u001b[0m     \u001b[43mvalidate_scoring_script\u001b[49m\u001b[43m(\u001b[49m\u001b[43mdeployment\u001b[49m\u001b[43m)\u001b[49m\n\u001b[1;32m    137\u001b[0m path_format_arguments \u001b[38;5;241m=\u001b[39m {\n\u001b[1;32m    138\u001b[0m     \u001b[38;5;124m\"\u001b[39m\u001b[38;5;124mendpointName\u001b[39m\u001b[38;5;124m\"\u001b[39m: deployment\u001b[38;5;241m.\u001b[39mname,\n\u001b[1;32m    139\u001b[0m     \u001b[38;5;124m\"\u001b[39m\u001b[38;5;124mresourceGroupName\u001b[39m\u001b[38;5;124m\"\u001b[39m: \u001b[38;5;28mself\u001b[39m\u001b[38;5;241m.\u001b[39m_resource_group_name,\n\u001b[1;32m    140\u001b[0m     \u001b[38;5;124m\"\u001b[39m\u001b[38;5;124mworkspaceName\u001b[39m\u001b[38;5;124m\"\u001b[39m: \u001b[38;5;28mself\u001b[39m\u001b[38;5;241m.\u001b[39m_workspace_name,\n\u001b[1;32m    141\u001b[0m }\n",
            "File \u001b[0;32m/anaconda/envs/azureml_py310_sdkv2/lib/python3.10/site-packages/azure/ai/ml/_utils/_endpoint_utils.py:208\u001b[0m, in \u001b[0;36mvalidate_scoring_script\u001b[0;34m(deployment)\u001b[0m\n\u001b[1;32m    207\u001b[0m \u001b[38;5;28;01mif\u001b[39;00m \u001b[38;5;28misinstance\u001b[39m(err, ValidationException):\n\u001b[0;32m--> 208\u001b[0m     \u001b[38;5;28;01mraise\u001b[39;00m err\n\u001b[1;32m    209\u001b[0m \u001b[38;5;28;01mraise\u001b[39;00m MlException(\n\u001b[1;32m    210\u001b[0m     message\u001b[38;5;241m=\u001b[39m \u001b[38;5;124mf\u001b[39m\u001b[38;5;124m\"\u001b[39m\u001b[38;5;124mFailed to open scoring script \u001b[39m\u001b[38;5;132;01m{\u001b[39;00merr\u001b[38;5;241m.\u001b[39mfilename\u001b[38;5;132;01m}\u001b[39;00m\u001b[38;5;124m.\u001b[39m\u001b[38;5;124m\"\u001b[39m,\n\u001b[1;32m    211\u001b[0m     no_personal_data_message\u001b[38;5;241m=\u001b[39m \u001b[38;5;124m\"\u001b[39m\u001b[38;5;124mFailed to open scoring script.\u001b[39m\u001b[38;5;124m\"\u001b[39m,\n\u001b[1;32m    212\u001b[0m )\n",
            "File \u001b[0;32m/anaconda/envs/azureml_py310_sdkv2/lib/python3.10/site-packages/azure/ai/ml/_utils/_endpoint_utils.py:195\u001b[0m, in \u001b[0;36mvalidate_scoring_script\u001b[0;34m(deployment)\u001b[0m\n\u001b[1;32m    191\u001b[0m             np_msg \u001b[38;5;241m=\u001b[39m (\n\u001b[1;32m    192\u001b[0m                 \u001b[38;5;124m\"\u001b[39m\u001b[38;5;124mFailed to submit deployment due to syntax errors in deployment script.\u001b[39m\u001b[38;5;124m\"\u001b[39m\n\u001b[1;32m    193\u001b[0m                 \u001b[38;5;124m\"\u001b[39m\u001b[38;5;130;01m\\n\u001b[39;00m\u001b[38;5;124m If you wish to bypass this validation use --skip-script-validation paramater.\u001b[39m\u001b[38;5;124m\"\u001b[39m\n\u001b[1;32m    194\u001b[0m             )\n\u001b[0;32m--> 195\u001b[0m             \u001b[38;5;28;01mraise\u001b[39;00m ValidationException(\n\u001b[1;32m    196\u001b[0m                 message\u001b[38;5;241m=\u001b[39mmsg,\n\u001b[1;32m    197\u001b[0m                 target\u001b[38;5;241m=\u001b[39m(\n\u001b[1;32m    198\u001b[0m                     ErrorTarget\u001b[38;5;241m.\u001b[39mBATCH_DEPLOYMENT\n\u001b[1;32m    199\u001b[0m                     \u001b[38;5;28;01mif\u001b[39;00m \u001b[38;5;28misinstance\u001b[39m(deployment, BatchDeployment)\n\u001b[1;32m    200\u001b[0m                     \u001b[38;5;28;01melse\u001b[39;00m ErrorTarget\u001b[38;5;241m.\u001b[39mONLINE_DEPLOYMENT\n\u001b[1;32m    201\u001b[0m                 ),\n\u001b[1;32m    202\u001b[0m                 no_personal_data_message\u001b[38;5;241m=\u001b[39mnp_msg,\n\u001b[1;32m    203\u001b[0m                 error_category\u001b[38;5;241m=\u001b[39mErrorCategory\u001b[38;5;241m.\u001b[39mUSER_ERROR,\n\u001b[1;32m    204\u001b[0m                 error_type\u001b[38;5;241m=\u001b[39mValidationErrorType\u001b[38;5;241m.\u001b[39mCANNOT_PARSE,\n\u001b[1;32m    205\u001b[0m             )\n\u001b[1;32m    206\u001b[0m \u001b[38;5;28;01mexcept\u001b[39;00m \u001b[38;5;167;01mException\u001b[39;00m \u001b[38;5;28;01mas\u001b[39;00m err:\n",
            "\u001b[0;31mValidationException\u001b[0m: Failed to submit deployment red due to syntax errors in scoring script score-brats21.py.\nError on line 45:      model_path = os.path.join(\n\nIf you wish to bypass this validation use --skip-script-validation paramater.",
            "\nDuring handling of the above exception, another exception occurred:\n",
            "\u001b[0;31mException\u001b[0m                                 Traceback (most recent call last)",
            "Input \u001b[0;32mIn [45]\u001b[0m, in \u001b[0;36m<cell line: 13>\u001b[0;34m()\u001b[0m\n\u001b[1;32m      1\u001b[0m \u001b[38;5;66;03m# create an online deployment.\u001b[39;00m\n\u001b[1;32m      2\u001b[0m deployment \u001b[38;5;241m=\u001b[39m ManagedOnlineDeployment(\n\u001b[1;32m      3\u001b[0m     name \u001b[38;5;241m=\u001b[39m deployment_name,\n\u001b[1;32m      4\u001b[0m     endpoint_name \u001b[38;5;241m=\u001b[39m online_endpoint_name,\n\u001b[0;32m   (...)\u001b[0m\n\u001b[1;32m     11\u001b[0m \n\u001b[1;32m     12\u001b[0m )\n\u001b[0;32m---> 13\u001b[0m deployment \u001b[38;5;241m=\u001b[39m \u001b[43mml_client\u001b[49m\u001b[38;5;241;43m.\u001b[39;49m\u001b[43mbegin_create_or_update\u001b[49m\u001b[43m(\u001b[49m\u001b[43mdeployment\u001b[49m\u001b[43m)\u001b[49m\n",
            "File \u001b[0;32m/anaconda/envs/azureml_py310_sdkv2/lib/python3.10/site-packages/azure/ai/ml/_ml_client.py:841\u001b[0m, in \u001b[0;36mMLClient.begin_create_or_update\u001b[0;34m(self, entity, **kwargs)\u001b[0m\n\u001b[1;32m    814\u001b[0m \u001b[38;5;28;01mdef\u001b[39;00m \u001b[38;5;21mbegin_create_or_update\u001b[39m(\n\u001b[1;32m    815\u001b[0m     \u001b[38;5;28mself\u001b[39m,\n\u001b[1;32m    816\u001b[0m     entity: R,\n\u001b[1;32m    817\u001b[0m     \u001b[38;5;241m*\u001b[39m\u001b[38;5;241m*\u001b[39mkwargs,\n\u001b[1;32m    818\u001b[0m ) \u001b[38;5;241m-\u001b[39m\u001b[38;5;241m>\u001b[39m LROPoller[R]:\n\u001b[1;32m    819\u001b[0m     \u001b[38;5;124;03m\"\"\"Creates or updates an Azure ML resource asynchronously.\u001b[39;00m\n\u001b[1;32m    820\u001b[0m \n\u001b[1;32m    821\u001b[0m \u001b[38;5;124;03m    :param entity: The resource to create or update.\u001b[39;00m\n\u001b[0;32m   (...)\u001b[0m\n\u001b[1;32m    838\u001b[0m \u001b[38;5;124;03m        azure.ai.ml.entities.JobSchedule]]\u001b[39;00m\n\u001b[1;32m    839\u001b[0m \u001b[38;5;124;03m    \"\"\"\u001b[39;00m\n\u001b[0;32m--> 841\u001b[0m     \u001b[38;5;28;01mreturn\u001b[39;00m \u001b[43m_begin_create_or_update\u001b[49m\u001b[43m(\u001b[49m\u001b[43mentity\u001b[49m\u001b[43m,\u001b[49m\u001b[43m \u001b[49m\u001b[38;5;28;43mself\u001b[39;49m\u001b[38;5;241;43m.\u001b[39;49m\u001b[43m_operation_container\u001b[49m\u001b[38;5;241;43m.\u001b[39;49m\u001b[43mall_operations\u001b[49m\u001b[43m,\u001b[49m\u001b[43m \u001b[49m\u001b[38;5;241;43m*\u001b[39;49m\u001b[38;5;241;43m*\u001b[39;49m\u001b[43mkwargs\u001b[49m\u001b[43m)\u001b[49m\n",
            "File \u001b[0;32m/anaconda/envs/azureml_py310_sdkv2/lib/python3.10/functools.py:889\u001b[0m, in \u001b[0;36msingledispatch.<locals>.wrapper\u001b[0;34m(*args, **kw)\u001b[0m\n\u001b[1;32m    885\u001b[0m \u001b[38;5;28;01mif\u001b[39;00m \u001b[38;5;129;01mnot\u001b[39;00m args:\n\u001b[1;32m    886\u001b[0m     \u001b[38;5;28;01mraise\u001b[39;00m \u001b[38;5;167;01mTypeError\u001b[39;00m(\u001b[38;5;124mf\u001b[39m\u001b[38;5;124m'\u001b[39m\u001b[38;5;132;01m{\u001b[39;00mfuncname\u001b[38;5;132;01m}\u001b[39;00m\u001b[38;5;124m requires at least \u001b[39m\u001b[38;5;124m'\u001b[39m\n\u001b[1;32m    887\u001b[0m                     \u001b[38;5;124m'\u001b[39m\u001b[38;5;124m1 positional argument\u001b[39m\u001b[38;5;124m'\u001b[39m)\n\u001b[0;32m--> 889\u001b[0m \u001b[38;5;28;01mreturn\u001b[39;00m \u001b[43mdispatch\u001b[49m\u001b[43m(\u001b[49m\u001b[43margs\u001b[49m\u001b[43m[\u001b[49m\u001b[38;5;241;43m0\u001b[39;49m\u001b[43m]\u001b[49m\u001b[38;5;241;43m.\u001b[39;49m\u001b[38;5;18;43m__class__\u001b[39;49m\u001b[43m)\u001b[49m\u001b[43m(\u001b[49m\u001b[38;5;241;43m*\u001b[39;49m\u001b[43margs\u001b[49m\u001b[43m,\u001b[49m\u001b[43m \u001b[49m\u001b[38;5;241;43m*\u001b[39;49m\u001b[38;5;241;43m*\u001b[39;49m\u001b[43mkw\u001b[49m\u001b[43m)\u001b[49m\n",
            "File \u001b[0;32m/anaconda/envs/azureml_py310_sdkv2/lib/python3.10/site-packages/azure/ai/ml/_ml_client.py:935\u001b[0m, in \u001b[0;36m_\u001b[0;34m(entity, operations, *args, **kwargs)\u001b[0m\n\u001b[1;32m    932\u001b[0m \u001b[38;5;129m@_begin_create_or_update\u001b[39m\u001b[38;5;241m.\u001b[39mregister(OnlineDeployment)\n\u001b[1;32m    933\u001b[0m \u001b[38;5;28;01mdef\u001b[39;00m \u001b[38;5;21m_\u001b[39m(entity: OnlineDeployment, operations, \u001b[38;5;241m*\u001b[39margs, \u001b[38;5;241m*\u001b[39m\u001b[38;5;241m*\u001b[39mkwargs):\n\u001b[1;32m    934\u001b[0m     module_logger\u001b[38;5;241m.\u001b[39mdebug(\u001b[38;5;124m\"\u001b[39m\u001b[38;5;124mCreating or updating online_deployments\u001b[39m\u001b[38;5;124m\"\u001b[39m)\n\u001b[0;32m--> 935\u001b[0m     \u001b[38;5;28;01mreturn\u001b[39;00m \u001b[43moperations\u001b[49m\u001b[43m[\u001b[49m\u001b[43mAzureMLResourceType\u001b[49m\u001b[38;5;241;43m.\u001b[39;49m\u001b[43mONLINE_DEPLOYMENT\u001b[49m\u001b[43m]\u001b[49m\u001b[38;5;241;43m.\u001b[39;49m\u001b[43mbegin_create_or_update\u001b[49m\u001b[43m(\u001b[49m\u001b[43mentity\u001b[49m\u001b[43m,\u001b[49m\u001b[43m \u001b[49m\u001b[38;5;241;43m*\u001b[39;49m\u001b[38;5;241;43m*\u001b[39;49m\u001b[43mkwargs\u001b[49m\u001b[43m)\u001b[49m\n",
            "File \u001b[0;32m/anaconda/envs/azureml_py310_sdkv2/lib/python3.10/site-packages/azure/core/tracing/decorator.py:78\u001b[0m, in \u001b[0;36mdistributed_trace.<locals>.decorator.<locals>.wrapper_use_tracer\u001b[0;34m(*args, **kwargs)\u001b[0m\n\u001b[1;32m     76\u001b[0m span_impl_type \u001b[38;5;241m=\u001b[39m settings\u001b[38;5;241m.\u001b[39mtracing_implementation()\n\u001b[1;32m     77\u001b[0m \u001b[38;5;28;01mif\u001b[39;00m span_impl_type \u001b[38;5;129;01mis\u001b[39;00m \u001b[38;5;28;01mNone\u001b[39;00m:\n\u001b[0;32m---> 78\u001b[0m     \u001b[38;5;28;01mreturn\u001b[39;00m \u001b[43mfunc\u001b[49m\u001b[43m(\u001b[49m\u001b[38;5;241;43m*\u001b[39;49m\u001b[43margs\u001b[49m\u001b[43m,\u001b[49m\u001b[43m \u001b[49m\u001b[38;5;241;43m*\u001b[39;49m\u001b[38;5;241;43m*\u001b[39;49m\u001b[43mkwargs\u001b[49m\u001b[43m)\u001b[49m\n\u001b[1;32m     80\u001b[0m \u001b[38;5;66;03m# Merge span is parameter is set, but only if no explicit parent are passed\u001b[39;00m\n\u001b[1;32m     81\u001b[0m \u001b[38;5;28;01mif\u001b[39;00m merge_span \u001b[38;5;129;01mand\u001b[39;00m \u001b[38;5;129;01mnot\u001b[39;00m passed_in_parent:\n",
            "File \u001b[0;32m/anaconda/envs/azureml_py310_sdkv2/lib/python3.10/site-packages/azure/ai/ml/operations/_online_deployment_operations.py:181\u001b[0m, in \u001b[0;36mOnlineDeploymentOperations.begin_create_or_update\u001b[0;34m(self, deployment, local, vscode_debug, skip_script_validation)\u001b[0m\n\u001b[1;32m    179\u001b[0m \u001b[38;5;28;01mexcept\u001b[39;00m \u001b[38;5;167;01mException\u001b[39;00m \u001b[38;5;28;01mas\u001b[39;00m ex:  \u001b[38;5;66;03m# pylint: disable=broad-except\u001b[39;00m\n\u001b[1;32m    180\u001b[0m     \u001b[38;5;28;01mif\u001b[39;00m \u001b[38;5;28misinstance\u001b[39m(ex, (ValidationException, SchemaValidationError)):\n\u001b[0;32m--> 181\u001b[0m         \u001b[43mlog_and_raise_error\u001b[49m\u001b[43m(\u001b[49m\u001b[43mex\u001b[49m\u001b[43m)\u001b[49m\n\u001b[1;32m    182\u001b[0m     \u001b[38;5;28;01melse\u001b[39;00m:\n\u001b[1;32m    183\u001b[0m         \u001b[38;5;28;01mraise\u001b[39;00m ex\n",
            "File \u001b[0;32m/anaconda/envs/azureml_py310_sdkv2/lib/python3.10/site-packages/azure/ai/ml/_exception_helper.py:277\u001b[0m, in \u001b[0;36mlog_and_raise_error\u001b[0;34m(error, debug, yaml_operation)\u001b[0m\n\u001b[1;32m    274\u001b[0m \u001b[38;5;28;01melse\u001b[39;00m:\n\u001b[1;32m    275\u001b[0m     \u001b[38;5;28;01mraise\u001b[39;00m error\n\u001b[0;32m--> 277\u001b[0m \u001b[38;5;28;01mraise\u001b[39;00m \u001b[38;5;167;01mException\u001b[39;00m(formatted_error)\n",
            "\u001b[0;31mException\u001b[0m: \u001b[31m\n\nError: \n\n1) YAML file cannot be parsed.\n\n\nDetails: \n\nFailed to submit deployment red due to syntax errors in scoring script score-brats21.py.\nError on line 45:      model_path = os.path.join(\n\nIf you wish to bypass this validation use --skip-script-validation paramater.\n\nResolutions:\nDouble-check your YAML file for syntax and formatting errors.\nIf using the CLI, you can also check the full log in debug mode for more details by adding --debug to the end of your command\nAdditional Resources: The easiest way to author a yaml specification file is using IntelliSense and auto-completion Azure ML VS code extension provides: https://code.visualstudio.com/docs/datascience/azure-machine-learning. To set up VS Code, visit https://docs.microsoft.com/azure/machine-learning/how-to-setup-vs-code\n\u001b[39m"
          ]
        }
      ],
      "execution_count": 45,
      "metadata": {
        "gather": {
          "logged": 1679356925714
        }
      }
    },
    {
      "cell_type": "code",
      "source": [
        "# existing traffic details\n",
        "print(endpoint.traffic)\n",
        "\n",
        "# Get the scoring URI\n",
        "print(endpoint.scoring_uri)"
      ],
      "outputs": [
        {
          "output_type": "stream",
          "name": "stdout",
          "text": "{}\nhttps://brain-tumor-segresnet-1.westeurope.inference.ml.azure.com/score\n"
        }
      ],
      "execution_count": 16,
      "metadata": {
        "gather": {
          "logged": 1679346788334
        }
      }
    },
    {
      "cell_type": "code",
      "source": [
        "os.getenv(\"AZUREML_MODEL_DIR\")\r\n"
      ],
      "outputs": [],
      "execution_count": 18,
      "metadata": {
        "jupyter": {
          "source_hidden": false,
          "outputs_hidden": false
        },
        "nteract": {
          "transient": {
            "deleting": false
          }
        },
        "gather": {
          "logged": 1679347837121
        }
      }
    },
    {
      "attachments": {},
      "cell_type": "markdown",
      "source": [
        "## Get Predictions"
      ],
      "metadata": {}
    },
    {
      "cell_type": "code",
      "source": [
        "# Encode input images for JSON request file\n",
        "with open(sample_image, \"rb\") as image_file:\n",
        "    flair_encoded = base64.b64encode(image_file.read()).decode('utf-8')\n",
        "\n",
        "with open(sample_image_t1, \"rb\") as image_file:\n",
        "    t1_encoded = base64.b64encode(image_file.read()).decode('utf-8')\n",
        "\n",
        "with open(sample_image_t1ce, \"rb\") as image_file:\n",
        "    t1ce_encoded = base64.b64encode(image_file.read()).decode('utf-8')\n",
        "\n",
        "with open(sample_image_t2, \"rb\") as image_file:\n",
        "    t2_encoded = base64.b64encode(image_file.read()).decode('utf-8')\n",
        "\n",
        "request_data = {\n",
        "    \"data\": [{\"flair\": flair_encoded, \"t1\": t1_encoded, \n",
        "              \"t1ce\": t1ce_encoded, \"t2\": t2_encoded\n",
        "             }]\n",
        "}\n",
        "\n",
        "# Write the JSON request data to a file\n",
        "with open(\"request-brats2021_1.json\", \"w\") as outfile:\n",
        "    json.dump(request_data, outfile)"
      ],
      "outputs": [],
      "execution_count": null,
      "metadata": {
        "gather": {
          "logged": 1679341304040
        }
      }
    },
    {
      "cell_type": "code",
      "source": [
        "# Send request to Managed Online Endpoint\r\n",
        "response = ml_client.online_endpoints.invoke(\r\n",
        "    endpoint_name= online_endpoint_name,\r\n",
        "    deployment_name= deployment_name,\r\n",
        "    request_file=\"./request-brats2021_1.json\",\r\n",
        ")\r\n"
      ],
      "outputs": [],
      "execution_count": null,
      "metadata": {
        "jupyter": {
          "source_hidden": false,
          "outputs_hidden": false
        },
        "nteract": {
          "transient": {
            "deleting": false
          }
        },
        "gather": {
          "logged": 1679341304059
        }
      }
    },
    {
      "cell_type": "code",
      "source": [
        "\n",
        "# convert response to numpy array with dimensions channel, height, width, slice\n",
        "json_response = json.loads(response)\n",
        "pred_vol = np.array(json_response)"
      ],
      "outputs": [],
      "execution_count": null,
      "metadata": {
        "gather": {
          "logged": 1679341304080
        }
      }
    },
    {
      "attachments": {},
      "cell_type": "markdown",
      "source": [
        "## Review Predictions\n",
        "We are inspecting the predictions for the tumor core segmentations and compare them with the ground truth annotations."
      ],
      "metadata": {}
    },
    {
      "cell_type": "code",
      "source": [
        "class ConvertToMultiChannelBasedOnBratsClassesd(MapTransform):\r\n",
        "    \"\"\"\r\n",
        "    Convert labels to multi channels based on brats 2021 classes:\r\n",
        "    label 1 necrotic tumor core (NCR)\r\n",
        "    label 2 peritumoral edematous/invaded tissue \r\n",
        "    label 3 is not used in the new dataset version\r\n",
        "    label 4 GD-enhancing tumor \r\n",
        "    The possible classes are:\r\n",
        "      TC (Tumor core): merge labels 1 and 4\r\n",
        "      WT (Whole tumor): merge labels 1,2 and 4\r\n",
        "      ET (Enhancing tumor): label 4\r\n",
        "\r\n",
        "    \"\"\"\r\n",
        "\r\n",
        "    def __call__(self, data):\r\n",
        "        d = dict(data)\r\n",
        "        for key in self.keys:\r\n",
        "            result = []\r\n",
        "            # merge label 1 and label 4 to construct TC\r\n",
        "            result.append(torch.logical_or(d[key] == 1, d[key] == 4))\r\n",
        "            # merge labels 1, 2 and 4 to construct WT\r\n",
        "            result.append(\r\n",
        "                torch.logical_or(\r\n",
        "                    torch.logical_or(d[key] == 1, d[key] == 2), d[key] == 4\r\n",
        "                )\r\n",
        "            )\r\n",
        "            # label 4 is ET\r\n",
        "            result.append(d[key] == 4)\r\n",
        "            d[key] = torch.stack(result, axis=0).float()\r\n",
        "        return d\r\n",
        "\r\n",
        "val_transform = Compose(\r\n",
        "[\r\n",
        "    LoadImaged(keys=[\"image\", \"label\"]),\r\n",
        "    EnsureChannelFirstd(keys=\"image\"),\r\n",
        "    EnsureTyped(keys=[\"image\", \"label\"]),\r\n",
        "    ConvertToMultiChannelBasedOnBratsClassesd(keys=\"label\"),\r\n",
        "    Orientationd(keys=[\"image\", \"label\"], axcodes=\"RAS\"),\r\n",
        "    Spacingd(\r\n",
        "        keys=[\"image\", \"label\"],\r\n",
        "        pixdim=(1.0, 1.0, 1.0),\r\n",
        "        mode=(\"bilinear\", \"nearest\"),\r\n",
        "    ),\r\n",
        "    NormalizeIntensityd(keys=\"image\", nonzero=True, channel_wise=True),\r\n",
        "])\r\n",
        "\r\n",
        "data_list = [{'image': sample_image, 'label': sample_label}]\r\n",
        "val_ds = Dataset(data=data_list, transform=val_transform)\r\n",
        "\r\n",
        "img_vol = val_ds[0][\"image\"].numpy()\r\n",
        "seg_vol = val_ds[0][\"label\"].numpy()\r\n"
      ],
      "outputs": [],
      "execution_count": null,
      "metadata": {
        "jupyter": {
          "source_hidden": false,
          "outputs_hidden": false
        },
        "nteract": {
          "transient": {
            "deleting": false
          }
        }
      }
    },
    {
      "cell_type": "code",
      "source": [
        "def show_slice(slice_index=60):\n",
        "\n",
        "    img = np.expand_dims(img_vol[0,:,:,slice_index], 0) # images\n",
        "    true_seg = np.expand_dims(seg_vol[0,:,:,slice_index], 0) # annotated ground truth labels\n",
        "    pred_seg = np.expand_dims(pred_vol[0,:,:,slice_index], 0)  # predicted labels\n",
        "    \n",
        "    blend = blend_images(img, true_seg, cmap='hsv')\n",
        "    over_true = np.transpose(blend, (1,2,0))\n",
        "    blend = blend_images(img, pred_seg, cmap='Blues')\n",
        "    over_pred = np.transpose(blend, (1,2,0))\n",
        "    \n",
        "    fig, ((ax1, ax2)) = plt.subplots(1, 2, figsize=(14, 7))\n",
        "\n",
        "    ax1.imshow(over_true)\n",
        "    ax1.set_title('Ground truth segmentations')\n",
        "    ax2.imshow(over_pred)\n",
        "    ax2.set_title('Predicted segmentations')\n",
        "    \n",
        "    plt.tight_layout()\n",
        "    plt.show()\n",
        "\n",
        "# Use the interact function to create a slider for the slice index\n",
        "_ = interact(show_slice, slice_index=(0, img_vol.shape[-1]-1))"
      ],
      "outputs": [],
      "execution_count": null,
      "metadata": {
        "gather": {
          "logged": 1679341304103
        }
      }
    }
  ],
  "metadata": {
    "kernelspec": {
      "name": "python310-sdkv2",
      "language": "python",
      "display_name": "Python 3.10 - SDK v2"
    },
    "language_info": {
      "name": "python",
      "version": "3.10.9",
      "mimetype": "text/x-python",
      "codemirror_mode": {
        "name": "ipython",
        "version": 3
      },
      "pygments_lexer": "ipython3",
      "nbconvert_exporter": "python",
      "file_extension": ".py"
    },
    "orig_nbformat": 4,
    "microsoft": {
      "ms_spell_check": {
        "ms_spell_check_language": "en"
      },
      "host": {
        "AzureML": {
          "notebookHasBeenCompleted": true
        }
      }
    },
    "kernel_info": {
      "name": "python310-sdkv2"
    },
    "nteract": {
      "version": "nteract-front-end@1.0.0"
    }
  },
  "nbformat": 4,
  "nbformat_minor": 2
}